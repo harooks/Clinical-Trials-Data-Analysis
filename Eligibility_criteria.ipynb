{
 "cells": [
  {
   "cell_type": "code",
   "execution_count": null,
   "metadata": {},
   "outputs": [],
   "source": [
    "import numpy as np\n",
    "import pandas as pd\n",
    "import matplotlib.pyplot as plt\n",
    "import seaborn as sns\n",
    "\n",
    "breast_cancer_df = pd.read_csv('breast-cancer.csv')\n",
    "covid_df = pd.read_csv('covid.csv')"
   ]
  },
  {
   "cell_type": "code",
   "execution_count": null,
   "metadata": {},
   "outputs": [],
   "source": [
    "## Function that gets the sexs\n",
    "\n",
    "breast_cancer_sex_df = breast_cancer_df['Sex'].value_counts(dropna=False)\n",
    "covid_sex_df = covid_df['Sex'].value_counts(dropna=False)"
   ]
  },
  {
   "cell_type": "code",
   "execution_count": null,
   "metadata": {},
   "outputs": [],
   "source": [
    "## sexs graphs\n",
    "plt.figure(figsize=(8, 6))\n",
    "bars = breast_cancer_sex_df.plot(kind='bar', color='hotpink')\n",
    "\n",
    "for i, value in enumerate(breast_cancer_sex_df.values):\n",
    "        bars.text(i, value, value, ha='center', va='bottom')\n",
    "\n",
    "plt.xlabel('Phases')\n",
    "plt.ylabel('Count')\n",
    "plt.title('Distribution of Phases in the Breast Cancer DataFrame')\n",
    "plt.xticks(rotation=45, ha='right')\n",
    "plt.tight_layout()\n",
    "# Display the bar chart for breast cancer\n",
    "plt.show()\n",
    "##----\n",
    "plt.figure(figsize=(8, 6))\n",
    "bars = covid_sex_df.plot(kind='bar', color='hotpink')\n",
    "\n",
    "for i, value in enumerate(covid_sex_df.values):\n",
    "        bars.text(i, value, value, ha='center', va='bottom')\n",
    "\n",
    "plt.xlabel('Phases')\n",
    "plt.ylabel('Count')\n",
    "plt.title('Distribution of Phases in the Breast Cancer DataFrame')\n",
    "plt.xticks(rotation=45, ha='right')\n",
    "plt.tight_layout()\n",
    "# Display the bar chart for breast cancer\n",
    "plt.show()\n",
    "\n",
    "## side by side\n",
    "df1 = pd.DataFrame({'Breast Cancer': breast_cancer_sex_df, 'COVID': covid_sex_df})\n",
    "df = df1.fillna(0)\n",
    "\n",
    "df.plot(kind='bar', figsize=(12, 6), color=['hotpink', 'mediumorchid'])\n",
    "\n",
    "plt.title('Comparison between Counts of sex in Breast Cancer and COVID Trials')\n",
    "plt.ylabel('Number of Occurrences')\n",
    "plt.xlabel('Sex')\n",
    "\n",
    "plt.show()\n"
   ]
  },
  {
   "cell_type": "code",
   "execution_count": null,
   "metadata": {},
   "outputs": [],
   "source": [
    "## Function that gets the age groups\n",
    "def get_groups(df):\n",
    "    cleaned_data = []\n",
    "\n",
    "    # Iterate over each row\n",
    "    for index, row in df.iterrows():\n",
    "        groupings = row['Age'].split(',')\n",
    "\n",
    "        # Iterate over each intervention\n",
    "        for group_type in groupings:\n",
    "            cleaned_data.append({'trial_id': index, 'Type': group_type})\n",
    "\n",
    "    cleaned_df = pd.DataFrame(cleaned_data)\n",
    "    \n",
    "    return print(cleaned_df)\n",
    "breast_cancer_groupings_df = get_groups(breast_cancer_df)\n",
    "covid_groupings_df = get_groups(covid_df)"
   ]
  },
  {
   "cell_type": "code",
   "execution_count": null,
   "metadata": {},
   "outputs": [],
   "source": [
    "## Bar plot ##\n",
    "\n",
    "def plot_age_groupings(df, title):\n",
    "    # Count the frequency of each intervention type\n",
    "    type_counts = df['Type'].value_counts()\n",
    "\n",
    "    # Create a bar plot\n",
    "    plt.figure(figsize=(10, 6))\n",
    "    barplot = sns.barplot(x=type_counts.index, y=type_counts.values, alpha=0.8)\n",
    "\n",
    "    # Add the actual values on top of each bar\n",
    "    for i, value in enumerate(type_counts.values):\n",
    "        barplot.text(i, value, value, ha='center', va='bottom')\n",
    "\n",
    "    plt.title(title)\n",
    "    plt.ylabel('Number of Occurrences', fontsize=12)\n",
    "    plt.xlabel('Age Groups', fontsize=12)\n",
    "\n",
    "    # Rotate x labels for better visibility\n",
    "    plt.xticks(rotation=90)\n",
    "\n",
    "    plt.show()\n",
    "plot_age_groupings(breast_cancer_groupings_df, 'Age Groups in Breast Cancer Trials')\n",
    "plot_age_groupings(covid_groupings_df, 'Age Groups in COVID Trials')\n"
   ]
  },
  {
   "cell_type": "code",
   "execution_count": null,
   "metadata": {},
   "outputs": [],
   "source": [
    "## Side by Side Bar Plot ##\n",
    "\n",
    "# Count the frequency of each intervention type in each dataset\n",
    "breast_cancer_GroupsType_count = breast_cancer_groupings_df['Type'].value_counts()\n",
    "covid_GroupsType_count = covid_groupings_df['Type'].value_counts()\n",
    "\n",
    "# Create a new DataFrame with these counts\n",
    "df = pd.DataFrame({'Breast Cancer': breast_cancer_GroupsType_count, 'COVID': covid_GroupsType_count})\n",
    "\n",
    "df = df.sort_values(by='Breast Cancer', ascending=False)\n",
    "\n",
    "# Fill NaN values with 0\n",
    "df = df.fillna(0)\n",
    "\n",
    "# Plot the DataFrame using pandas' built-in plot function\n",
    "df.plot(kind='bar', figsize=(12, 6))\n",
    "\n",
    "plt.title('Comparison between Age Groupings in Breast Cancer and COVID Trials')\n",
    "plt.ylabel('Number of Occurrences')\n",
    "plt.xlabel('Age Groupings')\n",
    "\n",
    "plt.show()"
   ]
  }
 ],
 "metadata": {
  "kernelspec": {
   "display_name": "Python 3",
   "language": "python",
   "name": "python3"
  },
  "language_info": {
   "codemirror_mode": {
    "name": "ipython",
    "version": 3
   },
   "file_extension": ".py",
   "mimetype": "text/x-python",
   "name": "python",
   "nbconvert_exporter": "python",
   "pygments_lexer": "ipython3",
   "version": "3.10.6"
  }
 },
 "nbformat": 4,
 "nbformat_minor": 2
}
