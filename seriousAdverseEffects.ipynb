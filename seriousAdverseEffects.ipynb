{
 "cells": [
  {
   "cell_type": "code",
   "execution_count": 16,
   "metadata": {},
   "outputs": [],
   "source": [
    "import numpy as np\n",
    "import pandas as pd\n",
    "import matplotlib.pyplot as plt\n",
    "import csv\n",
    "import seaborn as sns\n",
    "from tabulate import tabulate"
   ]
  },
  {
   "cell_type": "code",
   "execution_count": 17,
   "metadata": {},
   "outputs": [
    {
     "data": {
      "text/plain": [
       "Index(['id', 'nct_id', 'result_group_id', 'ctgov_group_code', 'time_frame',\n",
       "       'event_type', 'default_vocab', 'default_assessment',\n",
       "       'subjects_affected', 'subjects_at_risk', 'description', 'event_count',\n",
       "       'organ_system', 'adverse_event_term', 'frequency_threshold', 'vocab',\n",
       "       'assessment\\n'],\n",
       "      dtype='object')"
      ]
     },
     "execution_count": 17,
     "metadata": {},
     "output_type": "execute_result"
    }
   ],
   "source": [
    "# Read 'NCT Number' from both CSV files into sets\n",
    "breast_cancer_df = pd.read_csv('breast-cancer.csv')\n",
    "covid_df = pd.read_csv('covid.csv')\n",
    "nct_numbers = set(breast_cancer_df['NCT Number']).union(set(covid_df['NCT Number']))\n",
    "\n",
    "# with open('reported_events.txt', 'r') as in_file:\n",
    "#     # Write the first line (column names) to the CSV file\n",
    "#     first_line = in_file.readline()\n",
    "#     lines = in_file.read().splitlines()\n",
    "\n",
    "# # Open the csv file in write mode and write the lines\n",
    "# with open('reported_events.csv', 'w', newline='') as out_file:\n",
    "#     writer = csv.writer(out_file)\n",
    "#     writer.writerow(first_line.split('|'))  # Write the column names\n",
    "#     for line in lines:\n",
    "#         # Split the line into fields using a delimiter (e.g., '|')\n",
    "#         fields = line.split('|')\n",
    "#         # Check if the nct_id is in either of the sets\n",
    "#         if fields[1] in nct_numbers:  # assuming nct_id is the first field\n",
    "#             writer.writerow(fields)\n",
    "\n",
    "reported_events_df = pd.read_csv('reported_events.csv')\n",
    "reported_events_df.columns"
   ]
  },
  {
   "cell_type": "code",
   "execution_count": 18,
   "metadata": {},
   "outputs": [
    {
     "data": {
      "text/plain": [
       "(57534, 17)"
      ]
     },
     "execution_count": 18,
     "metadata": {},
     "output_type": "execute_result"
    }
   ],
   "source": [
    "\n",
    "reported_events_df = pd.read_csv('reported_events.csv')\n",
    "reported_events_df.shape\n"
   ]
  },
  {
   "cell_type": "code",
   "execution_count": 19,
   "metadata": {},
   "outputs": [],
   "source": [
    "## breast cancer df merged with reported events (adverse events and event type)\n",
    "breast_cancer_df = breast_cancer_df.merge(reported_events_df[['nct_id', 'adverse_event_term', 'event_type']],\n",
    "                                   left_on='NCT Number',\n",
    "                                   right_on='nct_id',\n",
    "                                   how='left')\n",
    "\n",
    "## covid df merged with reported events (adverse events and event type)\n",
    "covid_df = covid_df.merge(reported_events_df[['nct_id', 'adverse_event_term', 'event_type']],\n",
    "                                   left_on='NCT Number',\n",
    "                                   right_on='nct_id',\n",
    "                                   how='left')\n"
   ]
  },
  {
   "cell_type": "code",
   "execution_count": 23,
   "metadata": {},
   "outputs": [
    {
     "data": {
      "text/plain": [
       "Pneumonitis                              17\n",
       "Vomiting                                 15\n",
       "Diarrhoea                                13\n",
       "Fatigue                                  12\n",
       "Anaemia                                  10\n",
       "General Physical Health Deterioration    10\n",
       "Abdominal Pain                           10\n",
       "Pleural Effusion                         10\n",
       "Acute Kidney Injury                      10\n",
       "Back Pain                                10\n",
       "Name: adverse_event_term, dtype: int64"
      ]
     },
     "execution_count": 23,
     "metadata": {},
     "output_type": "execute_result"
    }
   ],
   "source": [
    "## the 10 most common adverse events for breast cancer\n",
    "## extract adverse_event_term with event_type = 'serious'\n",
    "breast_cancer_serious_adverse_events = breast_cancer_df[ breast_cancer_df['event_type'] == 'serious' ]['adverse_event_term'].value_counts().head(10)\n",
    "\n",
    "breast_cancer_serious_adverse_events"
   ]
  },
  {
   "cell_type": "code",
   "execution_count": null,
   "metadata": {},
   "outputs": [],
   "source": [
    "## the 10 most common adverse events for covid\n",
    "## extract adverse_event_term with event_type = 'serious'\n",
    "covid_serious_adverse_events = covid_df[ covid_df['event_type'] == 'serious' ]['adverse_event_term'].value_counts().head(10)\n",
    "covid_serious_adverse_events"
   ]
  }
 ],
 "metadata": {
  "kernelspec": {
   "display_name": "base",
   "language": "python",
   "name": "python3"
  },
  "language_info": {
   "codemirror_mode": {
    "name": "ipython",
    "version": 3
   },
   "file_extension": ".py",
   "mimetype": "text/x-python",
   "name": "python",
   "nbconvert_exporter": "python",
   "pygments_lexer": "ipython3",
   "version": "3.11.4"
  }
 },
 "nbformat": 4,
 "nbformat_minor": 2
}
